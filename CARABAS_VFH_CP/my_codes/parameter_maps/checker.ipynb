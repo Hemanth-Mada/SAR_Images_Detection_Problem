{
 "cells": [
  {
   "cell_type": "code",
   "execution_count": 1,
   "id": "956bc1f5",
   "metadata": {},
   "outputs": [
    {
     "name": "stdout",
     "output_type": "stream",
     "text": [
      "Loading parameter maps...\n",
      "Files loaded successfully.\n",
      "\n",
      "--- Corruption Analysis ---\n",
      "Corrupted pixels in b_map:     0\n",
      "Corrupted pixels in loc_map:   0\n",
      "Corrupted pixels in scale_map: 0\n",
      "-----------------------------\n",
      "Total pixels in image: 6000000\n",
      "Percentage of corrupted pixels: 0.00%\n"
     ]
    }
   ],
   "source": [
    "import numpy as np\n",
    "\n",
    "# --- NOTE: Make sure your .npy files are in the same directory as this script ---\n",
    "try:\n",
    "    print(\"Loading parameter maps...\")\n",
    "    b_map = np.load('b_map.npy')\n",
    "    loc_map = np.load('loc_map.npy')\n",
    "    scale_map = np.load('scale_map.npy')\n",
    "    print(\"Files loaded successfully.\")\n",
    "\n",
    "    # Count the number of NaN (\"Not a Number\") values in each map.\n",
    "    # These are the corrupted pixels where the original MLE fit failed.\n",
    "    nan_in_b = np.sum(np.isnan(b_map))\n",
    "    nan_in_loc = np.sum(np.isnan(loc_map))\n",
    "    nan_in_scale = np.sum(np.isnan(scale_map))\n",
    "\n",
    "    total_pixels = b_map.size\n",
    "    percent_corrupted = (nan_in_scale / total_pixels) * 100\n",
    "\n",
    "    print(\"\\n--- Corruption Analysis ---\")\n",
    "    print(f\"Corrupted pixels in b_map:     {nan_in_b}\")\n",
    "    print(f\"Corrupted pixels in loc_map:   {nan_in_loc}\")\n",
    "    print(f\"Corrupted pixels in scale_map: {nan_in_scale}\")\n",
    "    print(\"-----------------------------\")\n",
    "    print(f\"Total pixels in image: {total_pixels}\")\n",
    "    print(f\"Percentage of corrupted pixels: {percent_corrupted:.2f}%\")\n",
    "\n",
    "except FileNotFoundError:\n",
    "    print(\"Error: Could not find one or more of the .npy files.\")\n"
   ]
  }
 ],
 "metadata": {
  "kernelspec": {
   "display_name": "Python 3",
   "language": "python",
   "name": "python3"
  },
  "language_info": {
   "codemirror_mode": {
    "name": "ipython",
    "version": 3
   },
   "file_extension": ".py",
   "mimetype": "text/x-python",
   "name": "python",
   "nbconvert_exporter": "python",
   "pygments_lexer": "ipython3",
   "version": "3.11.4"
  }
 },
 "nbformat": 4,
 "nbformat_minor": 5
}
